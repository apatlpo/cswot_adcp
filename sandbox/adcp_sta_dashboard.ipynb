{
 "cells": [
  {
   "cell_type": "code",
   "execution_count": null,
   "id": "9ac8b053-3c02-4d04-8dce-6fcc8f15b44f",
   "metadata": {
    "tags": []
   },
   "outputs": [],
   "source": [
    "%load_ext autoreload \n",
    "%autoreload 2"
   ]
  },
  {
   "cell_type": "code",
   "execution_count": null,
   "id": "52c7a63d-6d43-4882-800d-ef5c56daebb3",
   "metadata": {
    "tags": []
   },
   "outputs": [],
   "source": [
    "import ui_helper as ui \n",
    "from cswot_adcp import data_loader as loader\n"
   ]
  },
  {
   "cell_type": "markdown",
   "id": "07ba0bf6-c16d-4c37-8a03-3a1412b985df",
   "metadata": {},
   "source": [
    "## Load RDI ADCP file (STA: Short Time Averaged)"
   ]
  },
  {
   "cell_type": "code",
   "execution_count": null,
   "id": "9ae877b6-7a94-4c19-afb8-c6801935417f",
   "metadata": {},
   "outputs": [],
   "source": [
    "file_name = \"ADCP_DriX__20220922T202647_018_000000.STA\""
   ]
  },
  {
   "cell_type": "code",
   "execution_count": null,
   "id": "d26389c5-b26e-4a4f-a34f-5208f8870a76",
   "metadata": {
    "tags": []
   },
   "outputs": [],
   "source": [
    "sta = loader.read_data(file_name)"
   ]
  },
  {
   "cell_type": "code",
   "execution_count": null,
   "id": "f3a5dc09-a5d2-4c65-88c8-32473d68032b",
   "metadata": {
    "tags": []
   },
   "outputs": [],
   "source": [
    "sta"
   ]
  },
  {
   "cell_type": "code",
   "execution_count": null,
   "id": "b4bca859-bfb0-42b4-9029-3cf4a4b58969",
   "metadata": {
    "tags": []
   },
   "outputs": [],
   "source": [
    "gui = ui.UIDesc(data=sta)\n",
    "gui.declare_widgets()\n",
    "controls, maps, graphs=gui.to_notebook()\n"
   ]
  },
  {
   "cell_type": "code",
   "execution_count": null,
   "id": "2c41ccd0-912f-46ab-8faa-4e47528e3ad6",
   "metadata": {},
   "outputs": [],
   "source": [
    "controls"
   ]
  },
  {
   "cell_type": "code",
   "execution_count": null,
   "id": "65c4c44e-8029-4c6e-821d-56831bd1b683",
   "metadata": {
    "tags": []
   },
   "outputs": [],
   "source": [
    "maps"
   ]
  },
  {
   "cell_type": "code",
   "execution_count": null,
   "id": "a92c9270-b377-443c-ac8c-aa632cf87a24",
   "metadata": {
    "tags": []
   },
   "outputs": [],
   "source": [
    "graphs"
   ]
  },
  {
   "cell_type": "code",
   "execution_count": null,
   "id": "09c610dc-5190-44f4-bba3-26a9e38ccaf3",
   "metadata": {},
   "outputs": [],
   "source": []
  }
 ],
 "metadata": {
  "kernelspec": {
   "display_name": "Python 3 (ipykernel)",
   "language": "python",
   "name": "python3"
  },
  "language_info": {
   "codemirror_mode": {
    "name": "ipython",
    "version": 3
   },
   "file_extension": ".py",
   "mimetype": "text/x-python",
   "name": "python",
   "nbconvert_exporter": "python",
   "pygments_lexer": "ipython3",
   "version": "3.10.9"
  }
 },
 "nbformat": 4,
 "nbformat_minor": 5
}
