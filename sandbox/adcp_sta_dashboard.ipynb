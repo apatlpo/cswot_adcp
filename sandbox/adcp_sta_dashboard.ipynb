{
 "cells": [
  {
   "cell_type": "code",
   "execution_count": null,
   "id": "9ac8b053-3c02-4d04-8dce-6fcc8f15b44f",
   "metadata": {
    "tags": []
   },
   "outputs": [],
   "source": [
    "%load_ext autoreload \n",
    "%autoreload 2"
   ]
  },
  {
   "cell_type": "code",
   "execution_count": null,
   "id": "52c7a63d-6d43-4882-800d-ef5c56daebb3",
   "metadata": {
    "tags": []
   },
   "outputs": [],
   "source": [
    "import ui_helper as ui \n",
    "import warnings"
   ]
  },
  {
   "cell_type": "markdown",
   "id": "07ba0bf6-c16d-4c37-8a03-3a1412b985df",
   "metadata": {},
   "source": [
    "## Load RDI ADCP file (STA: Short Time Averaged)"
   ]
  },
  {
   "cell_type": "code",
   "execution_count": null,
   "id": "9ae877b6-7a94-4c19-afb8-c6801935417f",
   "metadata": {},
   "outputs": [],
   "source": [
    "file_name = \"ADCP_Europe_20220923T161447_017_000000.STA\""
   ]
  },
  {
   "cell_type": "code",
   "execution_count": null,
   "id": "451ff026-581d-4acf-931a-c6e5d12cdcc9",
   "metadata": {
    "tags": []
   },
   "outputs": [],
   "source": [
    "#show available parameters\n",
    "ui.DisplayParameter()"
   ]
  },
  {
   "cell_type": "code",
   "execution_count": null,
   "id": "9a651c0d-144e-45c5-a5fd-cfdbb89bb48a",
   "metadata": {},
   "outputs": [],
   "source": [
    "#set a few parameters\n",
    "param_dict = {\"correlation_cmap\":\"Greys\", \"direction_cmap\":\"Spectral\"}\n",
    "parameters=ui.DisplayParameter(**param_dict )"
   ]
  },
  {
   "cell_type": "code",
   "execution_count": null,
   "id": "cd62511a-fc27-4c6f-91f9-8e6240bfe1dc",
   "metadata": {
    "tags": []
   },
   "outputs": [],
   "source": [
    "#create ui with filename and parameters\n",
    "gui = ui.UIDesc(filename_list=[file_name],display_parameter=parameters)"
   ]
  },
  {
   "cell_type": "code",
   "execution_count": null,
   "id": "0d722542-acaa-43b2-8cb7-597d5273fd47",
   "metadata": {
    "tags": []
   },
   "outputs": [],
   "source": [
    "controls, maps, graphs = gui.to_notebook()\n"
   ]
  },
  {
   "cell_type": "code",
   "execution_count": null,
   "id": "85a1dca3-08e1-4d08-84ec-5856f0cc109f",
   "metadata": {
    "tags": []
   },
   "outputs": [],
   "source": [
    "controls"
   ]
  },
  {
   "cell_type": "code",
   "execution_count": null,
   "id": "b4bca859-bfb0-42b4-9029-3cf4a4b58969",
   "metadata": {
    "tags": []
   },
   "outputs": [],
   "source": [
    "maps\n"
   ]
  },
  {
   "cell_type": "code",
   "execution_count": null,
   "id": "9cdd9392-686e-41a5-9696-c66c5e6a8963",
   "metadata": {},
   "outputs": [],
   "source": [
    "warnings.filterwarnings('ignore')"
   ]
  },
  {
   "cell_type": "code",
   "execution_count": null,
   "id": "2c41ccd0-912f-46ab-8faa-4e47528e3ad6",
   "metadata": {
    "tags": []
   },
   "outputs": [],
   "source": [
    "graphs"
   ]
  },
  {
   "cell_type": "code",
   "execution_count": null,
   "id": "3306b582-5a77-4a51-8e02-be7f3d2f3503",
   "metadata": {},
   "outputs": [],
   "source": []
  }
 ],
 "metadata": {
  "kernelspec": {
   "display_name": "Python 3 (ipykernel)",
   "language": "python",
   "name": "python3"
  },
  "language_info": {
   "codemirror_mode": {
    "name": "ipython",
    "version": 3
   },
   "file_extension": ".py",
   "mimetype": "text/x-python",
   "name": "python",
   "nbconvert_exporter": "python",
   "pygments_lexer": "ipython3",
   "version": "3.10.9"
  }
 },
 "nbformat": 4,
 "nbformat_minor": 5
}
