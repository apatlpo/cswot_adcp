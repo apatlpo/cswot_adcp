{
 "cells": [
  {
   "cell_type": "markdown",
   "metadata": {},
   "source": [
    "# This notebook is an example of display of RDI ADCP data: leverages panel\n",
    "\n",
    "comments:\n",
    "\n",
    "- use of dimension for `E`, `N`, probably not optimal\n",
    "- two time dimensions a bit confusing ... at least compute positions along dimension time\n"
   ]
  },
  {
   "cell_type": "code",
   "execution_count": null,
   "metadata": {},
   "outputs": [],
   "source": [
    "import xarray as xr\n",
    "import pandas as pd\n",
    "import numpy as np\n",
    "\n",
    "import matplotlib.pyplot as plt\n",
    "import holoviews as hv\n",
    "import hvplot.pandas\n",
    "import hvplot.xarray\n",
    "import panel as pn\n",
    "\n",
    "hv.extension('bokeh')\n",
    "pn.extension(sizing_mode=\"stretch_width\")\n",
    "\n",
    "#from pyproj import Geod\n",
    "#g = Geod(ellps='WGS84')\n",
    "\n",
    "#import util_adcp\n",
    "import cswot_adcp.adcp as ad\n",
    "import cswot_adcp.maps as mp"
   ]
  },
  {
   "cell_type": "markdown",
   "metadata": {},
   "source": [
    "---\n",
    "## Load RDI ADCP file (STA: Short Time Averaged)"
   ]
  },
  {
   "cell_type": "code",
   "execution_count": null,
   "metadata": {},
   "outputs": [],
   "source": [
    "file_name = \"ADCP_DriX__20220922T202647_018_000000.STA\""
   ]
  },
  {
   "cell_type": "code",
   "execution_count": null,
   "metadata": {},
   "outputs": [],
   "source": [
    "# read data\n",
    "\n",
    "# STA file reading\n",
    "STA=ad.read_WH300(file_name)\n",
    "# navigation compensation\n",
    "STA=ad.ADCPcompNav(STA)\n",
    "\" / \".join(list(STA))"
   ]
  },
  {
   "cell_type": "code",
   "execution_count": null,
   "metadata": {},
   "outputs": [],
   "source": [
    "def get_extent(STA, buffer=.1):\n",
    "    \"\"\" compute horizontal extent of the STA\"\"\"\n",
    "    lon, lat = STA[\"elongitude_gps\"], STA[\"elatitude_gps\"]\n",
    "    lon_scale = 1/np.cos(np.pi/180*lat.mean())\n",
    "    extent = [lon.min() - buffer*lon_scale,\n",
    "              lon.max() + buffer*lon_scale,\n",
    "              lat.min() - buffer,\n",
    "              lat.max() + buffer,\n",
    "             ]\n",
    "    extent = [float(e) for e in extent]\n",
    "    return extent\n"
   ]
  },
  {
   "cell_type": "code",
   "execution_count": null,
   "metadata": {},
   "outputs": [],
   "source": [
    "extent = get_extent(STA, buffer=.01)"
   ]
  },
  {
   "cell_type": "markdown",
   "metadata": {},
   "source": [
    "---\n",
    "## DISPLAY data"
   ]
  },
  {
   "cell_type": "markdown",
   "metadata": {},
   "source": [
    "### Display current velocity magnitude, direction and correlation"
   ]
  },
  {
   "cell_type": "code",
   "execution_count": null,
   "metadata": {},
   "outputs": [],
   "source": [
    "# override time_gps as it seems to be not reliable\n",
    "# may introduce inaccurate positions\n",
    "for v in STA.reset_coords():\n",
    "    if \"time_gps\" in STA[v].dims and v!=\"time_gps\":\n",
    "        STA[v] = STA[v].rename(time_gps=\"time\").assign_coords(time=STA.time)\n",
    "        \n",
    "# compute positions at positions time\n",
    "# not working because of strange gps time values\n",
    "#STA = STA.assign_coords(longitude=(\"time\", STA[\"elongitude_gps\"].interp(time_gps=STA.time).values),\n",
    "#                        latitude=(\"time\", STA[\"elatitude_gps\"].interp(time_gps=STA.time).values),\n",
    "#                       )\n"
   ]
  },
  {
   "cell_type": "code",
   "execution_count": null,
   "metadata": {},
   "outputs": [],
   "source": [
    "# round time for safety\n",
    "STA[\"time\"] = STA.time.dt.round(\"500ms\")\n",
    "STA = STA.assign_coords(time_date = STA.time)\n",
    "STA[\"time\"] = (STA.time - STA.time[0])/pd.Timedelta(\"1s\")\n",
    "\n",
    "#t = STA.drop(\"time_gps\").time.dt.round(\"500ms\")\n",
    "#STA = STA.assign_coords(time=t)\n",
    "#STA = STA.assign_coords(time=(t - t[0])/pd.Timedelta(\"1s\"))\n"
   ]
  },
  {
   "cell_type": "code",
   "execution_count": null,
   "metadata": {},
   "outputs": [],
   "source": [
    "frame_slider = pn.widgets.DiscreteSlider(name=\"time\", options=list(STA.time.values), formatter=\"%0.1f\")\n",
    "# formatter options but complicated with irregular time sampling\n",
    "frame_slider"
   ]
  },
  {
   "cell_type": "code",
   "execution_count": null,
   "metadata": {},
   "outputs": [],
   "source": [
    "# split velocity field dir dimension into multiple variables \n",
    "\n",
    "long_names = dict(E=\"Eastward velocity\", N=\"Northward velocity\", \n",
    "                  U=\"Upward velocity\", err=\"Error velocity\",\n",
    "                  Mag=\"Velocity magnitude\", Dir=\"Velocity Direction\",\n",
    "                 )\n",
    "units = dict(E=\"m/s\", N=\"m/s\", U=\"m/s\", err=\"m/s\", Mag=\"m/s\", Dir=\"degrees\")\n",
    "dirs = STA.dir.values\n",
    "\n",
    "def split_speed(da):\n",
    "    ds = xr.merge([da.sel(dir=d).rename(da.name+\"_\"+str(d))\n",
    "                   .assign_attrs(units=units[d], long_name=long_names[d]) for d in dirs], \n",
    "                  compat=\"override\")\n",
    "    del ds.attrs[\"units\"]\n",
    "    return ds.assign_attrs(long_name=\"compensated velocity fields\")\n",
    "\n",
    "ds_vel = split_speed(STA[\"vel comp Nav\"].rename(\"compensated\"))"
   ]
  },
  {
   "cell_type": "code",
   "execution_count": null,
   "metadata": {},
   "outputs": [],
   "source": [
    "# some dimensions\n",
    "HEIGHT=200\n",
    "#WIDTH=1000"
   ]
  },
  {
   "cell_type": "code",
   "execution_count": null,
   "metadata": {},
   "outputs": [],
   "source": [
    "plot_amplitude = (ds_vel[\"compensated_Mag\"]\n",
    "                  .hvplot(x=\"time\", y=\"range\", responsive=True, clim=(0,1), height=HEIGHT, cmap=\"inferno\")\n",
    "                  .opts(invert_yaxis=True, title=\"velocity magnitude\")\n",
    ")\n",
    "\n",
    "plot_amplitude"
   ]
  },
  {
   "cell_type": "code",
   "execution_count": null,
   "metadata": {},
   "outputs": [],
   "source": [
    "plot_dir = (ds_vel[\"compensated_Dir\"]\n",
    "                  .hvplot(x=\"time\", y=\"range\", responsive=True, clim=(-180,180), height=HEIGHT, cmap=\"hsv\")\n",
    "                  .opts(invert_yaxis=True, title=\"velocity direction\")\n",
    ")\n",
    "\n",
    "plot_dir"
   ]
  },
  {
   "cell_type": "code",
   "execution_count": null,
   "metadata": {},
   "outputs": [],
   "source": [
    "plot_corr = (STA[\"corr\"].mean(\"beam\")\n",
    "                  .hvplot(x=\"time\", y=\"range\", responsive=True, clim=(0,100), height=HEIGHT, cmap=\"hot\")\n",
    "                  .opts(invert_yaxis=True, title=\"correlation\")\n",
    ")\n",
    "\n",
    "plot_corr"
   ]
  },
  {
   "cell_type": "markdown",
   "metadata": {},
   "source": [
    "### vertical profiles"
   ]
  },
  {
   "cell_type": "code",
   "execution_count": null,
   "metadata": {},
   "outputs": [],
   "source": [
    "def get_profile_amplitude(frame):\n",
    "    return (ds_vel.sel(time=frame)\n",
    "            .hvplot.line(y=\"compensated_Mag\", x=\"range\", responsive=True, height=HEIGHT, ylim=(0,1))\n",
    "            .opts(invert_axes=True, invert_yaxis=True, title=\"velocity magnitude profile\")\n",
    "           )\n",
    "\n",
    "def get_profile_direction(frame):\n",
    "    return (ds_vel.sel(time=frame)\n",
    "            .hvplot.line(y=\"compensated_Dir\", x=\"range\", responsive=True, height=HEIGHT, ylim=(-180,180))\n",
    "            .opts(invert_axes=True, invert_yaxis=True, title=\"velocity direction profile\")\n",
    "           )\n",
    "\n",
    "def get_profile_correlation(frame):\n",
    "    return (STA.corr.sel(time=frame).mean(\"beam\")\n",
    "            .hvplot.line(x=\"range\", responsive=True, height=HEIGHT, ylim=(0,200))\n",
    "            .opts(invert_axes=True, invert_yaxis=True, title=\"correlation profile\")\n",
    "           )\n",
    "\n",
    "def get_profile_arrows(frame):\n",
    "    _ds = ds_vel.sel(time=frame).expand_dims(x=[0]) # np.zeros_like(ds_vel.range.values)\n",
    "    _ds = _ds.where(_ds.compensated_Mag<1)\n",
    "    delta = float(_ds[\"range\"].max() - _ds[\"range\"].min())\n",
    "    _ds[\"angle\"] = _ds[\"compensated_Dir\"]*np.pi/180\n",
    "    #_ds[\"mag\"] = _ds['compensated_Mag']*delta # rescale amplitude\n",
    "    _ds[\"mag\"] = _ds['compensated_Mag']*1 # rescale amplitude    \n",
    "    return _ds.hvplot.vectorfield(x=\"x\", y='range', angle='angle', mag='mag', \n",
    "                                  xlim=(-delta/2,delta/2), height=HEIGHT, # hover=False                               \n",
    "                                 ).opts(magnitude='mag',\n",
    "                                        color=\"mag\", colorbar=True, clim=(0,1),\n",
    "                                        invert_yaxis=True, title=\"velocity\",\n",
    "                                        rescale_lengths=False, scale=10/delta, )\n",
    "\n",
    "get_profile_arrows(0)\n"
   ]
  },
  {
   "cell_type": "code",
   "execution_count": null,
   "metadata": {},
   "outputs": [],
   "source": [
    "#ds_vel.hvplot.vectorfield?"
   ]
  },
  {
   "cell_type": "markdown",
   "metadata": {},
   "source": [
    "### map and trajectory\n",
    "\n",
    "Available tiles:\n",
    "\n",
    "['CartoDark', 'CartoEco', 'CartoLight', 'CartoMidnight', \n",
    " 'EsriImagery', 'EsriNatGeo', 'EsriReference', 'EsriStreet', 'EsriTerrain', 'EsriUSATopo', \n",
    " 'OSM', 'OpenTopoMap', \n",
    " 'StamenLabels', 'StamenLabelsRetina', 'StamenTerrain', 'StamenTerrainRetina', 'StamenToner', \n",
    " 'StamenTonerBackground', 'StamenTonerBackgroundRetina', 'StamenTonerRetina', 'StamenWatercolor', \n",
    " 'Wikipedia']"
   ]
  },
  {
   "cell_type": "code",
   "execution_count": null,
   "metadata": {},
   "outputs": [],
   "source": [
    "def get_trajectory(frame):\n",
    "    _df = STA[['elongitude_gps', 'elatitude_gps']].to_dataframe()\n",
    "    base = _df.hvplot.points('elongitude_gps', 'elatitude_gps', geo=True, color='gray', alpha=0.2,\n",
    "                  xlim=(extent[0], extent[1]), ylim=(extent[2], extent[3]), tiles='EsriNatGeo',\n",
    "                  #width=500, height=500,\n",
    "                 )\n",
    "    focus = _df.loc[[frame]].hvplot.points('elongitude_gps', 'elatitude_gps', geo=True, color='red', alpha=1.,\n",
    "                 )\n",
    "    return base*focus\n",
    "\n",
    "#get_trajectory(0)"
   ]
  },
  {
   "cell_type": "markdown",
   "metadata": {},
   "source": [
    "### vertical line"
   ]
  },
  {
   "cell_type": "code",
   "execution_count": null,
   "metadata": {},
   "outputs": [],
   "source": [
    "def get_vline(frame):\n",
    "    return hv.VLine(frame).opts(color=\"red\")\n",
    "#get_vline(1)"
   ]
  },
  {
   "cell_type": "markdown",
   "metadata": {},
   "source": [
    "### title bar"
   ]
  },
  {
   "cell_type": "code",
   "execution_count": null,
   "metadata": {},
   "outputs": [],
   "source": [
    "# \n",
    "app_bar = pn.Row(\n",
    "    pn.pane.Markdown(\"## STA ADCP data viewer\", style={\"color\": \"black\"}, width=500, sizing_mode=\"fixed\", margin=(10,5,10,15)), \n",
    "    #pn.Spacer(),\n",
    "    #pn.pane.PNG(\"http://holoviews.org/_static/logo.png\", height=50, sizing_mode=\"fixed\", align=\"center\"),\n",
    "    #pn.pane.PNG(\"https://panel.holoviz.org/_static/logo_horizontal.png\", height=50, sizing_mode=\"fixed\", align=\"center\"),\n",
    "    background=\"white\",\n",
    ")\n",
    "app_bar"
   ]
  },
  {
   "cell_type": "markdown",
   "metadata": {},
   "source": [
    "### make dynamical plots"
   ]
  },
  {
   "cell_type": "code",
   "execution_count": null,
   "metadata": {},
   "outputs": [],
   "source": [
    "@pn.depends(frame=frame_slider)\n",
    "def profile_amplitude(frame):\n",
    "    return get_profile_amplitude(frame)\n",
    "\n",
    "@pn.depends(frame=frame_slider)\n",
    "def profile_direction(frame):\n",
    "    return get_profile_direction(frame)\n",
    "\n",
    "@pn.depends(frame=frame_slider)\n",
    "def profile_correlation(frame):\n",
    "    return get_profile_correlation(frame)\n",
    "\n",
    "@pn.depends(frame=frame_slider)\n",
    "def profile_arrows(frame):\n",
    "    return get_profile_arrows(frame)\n",
    "\n",
    "@pn.depends(frame=frame_slider)\n",
    "def trajectory(frame):\n",
    "    return get_trajectory(frame)\n",
    "\n",
    "@pn.depends(frame=frame_slider)\n",
    "def vline(frame):\n",
    "    return get_vline(frame)\n",
    "\n",
    "vline_dmap = hv.DynamicMap(vline)\n",
    "pamplitude_dmap = hv.DynamicMap(profile_amplitude)\n",
    "pdirection_dmap = hv.DynamicMap(profile_direction)\n",
    "pcorrelation_dmap = hv.DynamicMap(profile_correlation)\n",
    "parrows_dmap = hv.DynamicMap(profile_arrows)\n",
    "trajectory_dmap = hv.DynamicMap(trajectory)"
   ]
  },
  {
   "cell_type": "markdown",
   "metadata": {},
   "source": [
    "---\n",
    "\n",
    "### assemble the app"
   ]
  },
  {
   "cell_type": "code",
   "execution_count": null,
   "metadata": {},
   "outputs": [],
   "source": [
    "app = pn.Column(\n",
    "    app_bar,\n",
    "    pn.Spacer(height=10),\n",
    "    pn.Row(trajectory_dmap, \n",
    "           parrows_dmap,\n",
    "          ),\n",
    "    frame_slider,\n",
    "    pn.Row(\n",
    "        plot_amplitude * vline_dmap,\n",
    "        pamplitude_dmap,\n",
    "    ),\n",
    "    pn.Row(\n",
    "        plot_dir * vline_dmap,\n",
    "        pdirection_dmap,\n",
    "    ),\n",
    "    pn.Row(\n",
    "        plot_corr * vline_dmap,\n",
    "        pcorrelation_dmap,\n",
    "    ),\n",
    ")\n",
    "app"
   ]
  },
  {
   "cell_type": "code",
   "execution_count": null,
   "metadata": {},
   "outputs": [],
   "source": [
    "# initial attempt, it is easier to control width\n",
    "\n",
    "plots = ((plot_amplitude + plot_dir + plot_corr) * vline_dmap).cols(1)\n",
    "\n",
    "app = pn.Column(\n",
    "    app_bar,\n",
    "    pn.Spacer(height=10),\n",
    "    frame_slider,\n",
    "    pn.Row(\n",
    "        plots,\n",
    "        pn.Column(\n",
    "            pn.Spacer(height=20),\n",
    "            pamplitude_dmap,\n",
    "            pdirection_dmap,\n",
    "            pcorrelation_dmap,\n",
    "            width=200,\n",
    "        ),\n",
    "        width=1000,\n",
    "    ),\n",
    ")\n",
    "app"
   ]
  },
  {
   "cell_type": "code",
   "execution_count": null,
   "metadata": {},
   "outputs": [],
   "source": []
  }
 ],
 "metadata": {
  "kernelspec": {
   "display_name": "Python 3 (ipykernel)",
   "language": "python",
   "name": "python3"
  },
  "language_info": {
   "codemirror_mode": {
    "name": "ipython",
    "version": 3
   },
   "file_extension": ".py",
   "mimetype": "text/x-python",
   "name": "python",
   "nbconvert_exporter": "python",
   "pygments_lexer": "ipython3",
   "version": "3.10.8"
  }
 },
 "nbformat": 4,
 "nbformat_minor": 4
}
